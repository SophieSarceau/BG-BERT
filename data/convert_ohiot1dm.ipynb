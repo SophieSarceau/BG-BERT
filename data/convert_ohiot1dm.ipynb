{
 "cells": [
  {
   "cell_type": "code",
   "execution_count": 9,
   "metadata": {},
   "outputs": [],
   "source": [
    "import xml.etree.ElementTree as etree\n",
    "import pandas as pd\n",
    "import joblib\n",
    "import os\n",
    "import numpy as np\n",
    "import matplotlib.pyplot as plt\n",
    "import joblib\n",
    "import math\n",
    "import scipy.stats as stats"
   ]
  },
  {
   "cell_type": "code",
   "execution_count": 8,
   "metadata": {},
   "outputs": [],
   "source": [
    "# use bolus insulin on board to fill in the bolus data\n",
    "def iobCalcExponential(insulin, t, dia, peak):\n",
    "    peak = 50\n",
    "    end = dia * 60\n",
    "    activityContrib = 0\n",
    "    minsAgo = t\n",
    "    iobContrib = 0\n",
    "    if minsAgo < end:\n",
    "        tau = peak * (1 - peak / end) / (1 - 2 * peak / end) # time constant of exponential decay\n",
    "        a = 2 * tau / end # rise time factor\n",
    "        S = 1 / (1 - a + (1 + a) * math.exp(-end / tau)) # auxiliary scale factor\n",
    "\n",
    "    activityContrib = insulin * (S / tau ** 2) * minsAgo * (1 - minsAgo / end) * math.exp(-minsAgo / tau)\n",
    "    # iobContrib = insulin * (1 - S * (1 - a) * ((minsAgo ** 2 / (tau * end * (1 - a)) - minsAgo / tau - 1) * math.exp(-minsAgo / tau) + 1))\n",
    "    #print('DIA:', dia, 'minsAgo:', minsAgo, 'end:', end, 'peak:', peak, 'tau:', tau, 'a:', a, 'S:', S, 'activityContrib:', activityContrib, 'iobContrib:', iobContrib)\n",
    "\n",
    "    return activityContrib\n",
    "\n",
    "# use carb absoption curv to fill in the carb data\n",
    "def carbAbsobCurv(carbintake, t):\n",
    "    if t >= 0 and t < 15:\n",
    "        return carbintake * (0.05 + 1 / 3 * t)\n",
    "    elif t >= 15 and t < 45:\n",
    "        return carbintake * (0.05 + 5 * (45 - t) / 30)\n",
    "    elif t >= 45 and t <= 240:\n",
    "        return carbintake * 0.05\n",
    "    else:\n",
    "        return 0"
   ]
  },
  {
   "cell_type": "code",
   "execution_count": 10,
   "metadata": {},
   "outputs": [],
   "source": [
    "# read train and test data from pkl files\n",
    "# glucose: blood glucose level\n",
    "# finger: finger stick blood glucose level\n",
    "# basal: basal insulin rate\n",
    "# hr: heart rate\n",
    "# gsr: galvanic skin response\n",
    "# carbs: number of carbs consumed\n",
    "# temp_basal: temporary basal rate\n",
    "# dose: bolus insulin dose\n",
    "\n",
    "\n",
    "file_dir = '../2020data'\n",
    "train_data_list = []\n",
    "for f in os.listdir(file_dir):\n",
    "    if 'train' not in f:\n",
    "        continue\n",
    "    train_data = joblib.load(os.path.join(file_dir, f))\n",
    "    new_train_data = np.zeros((train_data.shape[0], 5))\n",
    "    new_train_data[:, 0] = train_data['glucose']\n",
    "    new_train_data[:, 1] = train_data['dose']\n",
    "    new_train_data[:, 2] = train_data['carbs']\n",
    "    new_train_data[:, 3] = train_data['gsr']\n",
    "    new_train_data[:, 4] = train_data['basal']\n",
    "    # replace nan with 0\n",
    "    new_train_data = np.nan_to_num(new_train_data)\n",
    "    processed_train_data = np.zeros((new_train_data.shape[0], 5))\n",
    "    processed_train_data[:, 0] = new_train_data[:, 0]\n",
    "    processed_train_data[:, 3] = new_train_data[:, 3]\n",
    "    processed_train_data[:, 4] = new_train_data[:, 4]\n",
    "    # fill in bolus data (dose)\n",
    "    new_bolus_iob = []\n",
    "    for i in range(len(new_train_data)):\n",
    "        if new_train_data[i][1] != 0:\n",
    "            bolus_array = np.zeros((len(new_train_data)))\n",
    "            for j in range(i, min(i + int(240 / 5) - 1, len(new_train_data))):\n",
    "                bolus_array[j] = iobCalcExponential(new_train_data[i][1], (j - i) * 5, 4, 50)\n",
    "            new_bolus_iob.append(bolus_array)\n",
    "    # add bolus data into one array\n",
    "    new_bolus_iob = np.array(new_bolus_iob)\n",
    "    new_bolus_iob = np.sum(new_bolus_iob, axis=0)\n",
    "    processed_train_data[:, 1] = new_bolus_iob\n",
    "    # fill in carb data (carbs)\n",
    "    new_carb_absob = []\n",
    "    for i in range(len(new_train_data)):\n",
    "        if new_train_data[i][2] != 0:\n",
    "            carb_array = np.zeros((len(new_train_data)))\n",
    "            for j in range(i, min(i + int(240 / 5) - 1, len(new_train_data))):\n",
    "                carb_array[j] = carbAbsobCurv(new_train_data[i][2], (j - i) * 5)\n",
    "            new_carb_absob.append(carb_array)\n",
    "    # add carb data into one array\n",
    "    new_carb_absob = np.array(new_carb_absob)\n",
    "    new_carb_absob = np.sum(new_carb_absob, axis=0)\n",
    "    processed_train_data[:, 2] = new_carb_absob\n",
    "    train_data_list.append(processed_train_data)\n",
    "\n",
    "test_data_list = []\n",
    "for f in os.listdir(file_dir):\n",
    "    if 'test' not in f:\n",
    "        continue\n",
    "    test_data = joblib.load(os.path.join(file_dir, f))\n",
    "    new_test_data = np.zeros((test_data.shape[0], 5))\n",
    "    new_test_data[:, 0] = test_data['glucose']\n",
    "    new_test_data[:, 1] = test_data['dose']\n",
    "    new_test_data[:, 2] = test_data['carbs']\n",
    "    new_test_data[:, 3] = test_data['gsr']\n",
    "    new_test_data[:, 4] = test_data['basal']\n",
    "    # replace nan with 0\n",
    "    new_test_data = np.nan_to_num(new_test_data)\n",
    "    processed_test_data = np.zeros((new_test_data.shape[0], 5))\n",
    "    processed_test_data[:, 0] = new_test_data[:, 0]\n",
    "    processed_test_data[:, 3] = new_test_data[:, 3]\n",
    "    processed_test_data[:, 4] = new_test_data[:, 4]\n",
    "    # fill in bolus data (dose)\n",
    "    new_bolus_iob = []\n",
    "    for i in range(len(new_test_data)):\n",
    "        if new_test_data[i][1] != 0:\n",
    "            bolus_array = np.zeros((len(new_test_data)))\n",
    "            for j in range(i, min(i + int(240 / 5) - 1, len(new_test_data))):\n",
    "                bolus_array[j] = iobCalcExponential(new_test_data[i][1], (j - i) * 5, 4, 50)\n",
    "            new_bolus_iob.append(bolus_array)\n",
    "    # add bolus data into one array\n",
    "    new_bolus_iob = np.array(new_bolus_iob)\n",
    "    new_bolus_iob = np.sum(new_bolus_iob, axis=0)\n",
    "    processed_test_data[:, 1] = new_bolus_iob\n",
    "    # fill in carb data (carbs)\n",
    "    new_carb_absob = []\n",
    "    for i in range(len(new_test_data)):\n",
    "        if new_test_data[i][2] != 0:\n",
    "            carb_array = np.zeros((len(new_test_data)))\n",
    "            for j in range(i, min(i + int(240 / 5) - 1, len(new_test_data))):\n",
    "                carb_array[j] = carbAbsobCurv(new_test_data[i][2], (j - i) * 5)\n",
    "            new_carb_absob.append(carb_array)\n",
    "    # add carb data into one array\n",
    "    new_carb_absob = np.array(new_carb_absob)\n",
    "    new_carb_absob = np.sum(new_carb_absob, axis=0)\n",
    "    processed_test_data[:, 2] = new_carb_absob\n",
    "    test_data_list.append(processed_test_data)"
   ]
  },
  {
   "cell_type": "code",
   "execution_count": 11,
   "metadata": {},
   "outputs": [
    {
     "name": "stdout",
     "output_type": "stream",
     "text": [
      "train_data_list length: 12\n",
      "test_data_list length: 12\n"
     ]
    }
   ],
   "source": [
    "print('train_data_list length:', len(train_data_list))\n",
    "print('test_data_list length:', len(test_data_list))"
   ]
  },
  {
   "cell_type": "code",
   "execution_count": 12,
   "metadata": {},
   "outputs": [],
   "source": [
    "# split the data based on given backcast_length and forecast_length\n",
    "backcast_length = 24\n",
    "forecast_length = 6\n",
    "\n",
    "final_train_df_list = []\n",
    "final_test_df_list = []\n",
    "\n",
    "for train_data in train_data_list:\n",
    "    train_df_list = []\n",
    "    for i in range(len(train_data) - backcast_length - forecast_length + 1):\n",
    "        train_data_sample = train_data[i:i + backcast_length + forecast_length]\n",
    "        # check if there is zero in the glucose data\n",
    "        if 0 in train_data_sample[:, 0]:\n",
    "            continue\n",
    "        final_train_df_list.append(train_data[i:i + backcast_length + forecast_length])\n",
    "for test_data in test_data_list:\n",
    "    test_df_list = []\n",
    "    for i in range(len(test_data) - backcast_length - forecast_length + 1):\n",
    "        test_data_sample = test_data[i:i + backcast_length + forecast_length]\n",
    "        # check if there is zero in the glucose data\n",
    "        if 0 in test_data_sample[:, 0]:\n",
    "            continue\n",
    "        final_test_df_list.append(test_data[i:i + backcast_length + forecast_length])\n",
    "\n",
    "final_train_df_list = np.array(final_train_df_list)\n",
    "final_test_df_list = np.array(final_test_df_list)\n",
    "\n",
    "# split train into train and val\n",
    "train_df_list = final_train_df_list[:int(len(final_train_df_list) * 0.8)]\n",
    "val_df_list = final_train_df_list[int(len(final_train_df_list) * 0.8):]\n",
    "test_df_list = final_test_df_list"
   ]
  },
  {
   "cell_type": "code",
   "execution_count": 13,
   "metadata": {},
   "outputs": [
    {
     "name": "stdout",
     "output_type": "stream",
     "text": [
      "train_df_list length: 97832\n",
      "val_df_list length: 24458\n",
      "test_df_list length: 28656\n"
     ]
    }
   ],
   "source": [
    "print('train_df_list length:', len(train_df_list))\n",
    "print('val_df_list length:', len(val_df_list))\n",
    "print('test_df_list length:', len(test_df_list))"
   ]
  },
  {
   "cell_type": "code",
   "execution_count": 14,
   "metadata": {},
   "outputs": [],
   "source": [
    "# save train, val, test data in npy format\n",
    "np.save('./ohio_30/train.npy', train_df_list)\n",
    "np.save('./ohio_30/val.npy', val_df_list)\n",
    "np.save('./ohio_30/test.npy', test_df_list)"
   ]
  },
  {
   "cell_type": "code",
   "execution_count": 15,
   "metadata": {},
   "outputs": [],
   "source": [
    "# split the data based on given backcast_length and forecast_length\n",
    "backcast_length = 48\n",
    "forecast_length = 12\n",
    "\n",
    "final_train_df_list = []\n",
    "final_test_df_list = []\n",
    "\n",
    "for train_data in train_data_list:\n",
    "    train_df_list = []\n",
    "    for i in range(len(train_data) - backcast_length - forecast_length + 1):\n",
    "        train_data_sample = train_data[i:i + backcast_length + forecast_length]\n",
    "        # check if there is zero in the glucose data\n",
    "        if 0 in train_data_sample[:, 0]:\n",
    "            continue\n",
    "        final_train_df_list.append(train_data[i:i + backcast_length + forecast_length])\n",
    "for test_data in test_data_list:\n",
    "    test_df_list = []\n",
    "    for i in range(len(test_data) - backcast_length - forecast_length + 1):\n",
    "        test_data_sample = test_data[i:i + backcast_length + forecast_length]\n",
    "        # check if there is zero in the glucose data\n",
    "        if 0 in test_data_sample[:, 0]:\n",
    "            continue\n",
    "        final_test_df_list.append(test_data[i:i + backcast_length + forecast_length])\n",
    "\n",
    "final_train_df_list = np.array(final_train_df_list)\n",
    "final_test_df_list = np.array(final_test_df_list)\n",
    "\n",
    "# split train into train and val\n",
    "train_df_list = final_train_df_list[:int(len(final_train_df_list) * 0.8)]\n",
    "val_df_list = final_train_df_list[int(len(final_train_df_list) * 0.8):]\n",
    "test_df_list = final_test_df_list"
   ]
  },
  {
   "cell_type": "code",
   "execution_count": 16,
   "metadata": {},
   "outputs": [
    {
     "name": "stdout",
     "output_type": "stream",
     "text": [
      "train_df_list length: 87988\n",
      "val_df_list length: 21997\n",
      "test_df_list length: 25549\n"
     ]
    }
   ],
   "source": [
    "print('train_df_list length:', len(train_df_list))\n",
    "print('val_df_list length:', len(val_df_list))\n",
    "print('test_df_list length:', len(test_df_list))"
   ]
  },
  {
   "cell_type": "code",
   "execution_count": 17,
   "metadata": {},
   "outputs": [],
   "source": [
    "# save train, val, test data in npy format\n",
    "np.save('./ohio_60/train.npy', train_df_list)\n",
    "np.save('./ohio_60/val.npy', val_df_list)\n",
    "np.save('./ohio_60/test.npy', test_df_list)"
   ]
  },
  {
   "cell_type": "code",
   "execution_count": null,
   "metadata": {},
   "outputs": [],
   "source": []
  }
 ],
 "metadata": {
  "kernelspec": {
   "display_name": "glucose",
   "language": "python",
   "name": "python3"
  },
  "language_info": {
   "codemirror_mode": {
    "name": "ipython",
    "version": 3
   },
   "file_extension": ".py",
   "mimetype": "text/x-python",
   "name": "python",
   "nbconvert_exporter": "python",
   "pygments_lexer": "ipython3",
   "version": "3.10.12"
  },
  "orig_nbformat": 4
 },
 "nbformat": 4,
 "nbformat_minor": 2
}
